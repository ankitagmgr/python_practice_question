{
 "cells": [
  {
   "cell_type": "code",
   "execution_count": 1,
   "id": "4e4124f6-dbd8-4683-9980-6c14aac0ec2c",
   "metadata": {},
   "outputs": [],
   "source": [
    "#basic string question "
   ]
  },
  {
   "cell_type": "code",
   "execution_count": 2,
   "id": "9193d5ef-9047-4224-a992-4356d347aa1a",
   "metadata": {},
   "outputs": [
    {
     "name": "stdout",
     "output_type": "stream",
     "text": [
      "hello\n"
     ]
    }
   ],
   "source": [
    "#1. Create a string and print it.\n",
    "name=\"hello\"\n",
    "print(name)"
   ]
  },
  {
   "cell_type": "code",
   "execution_count": 5,
   "id": "1d8fa74a-1596-4d8b-bee5-422c45c69b0d",
   "metadata": {},
   "outputs": [
    {
     "name": "stdout",
     "output_type": "stream",
     "text": [
      "11\n"
     ]
    }
   ],
   "source": [
    "#2.Find the length of a given string.\n",
    "s=\"hello world\" #count space too\n",
    "print(len(s))"
   ]
  },
  {
   "cell_type": "code",
   "execution_count": 7,
   "id": "27b16f4b-dd95-41c5-bc0a-a8fdbc3a2e96",
   "metadata": {},
   "outputs": [
    {
     "name": "stdout",
     "output_type": "stream",
     "text": [
      "HELLO WORLD\n",
      "hello world\n"
     ]
    }
   ],
   "source": [
    "#3.Convert a string to uppercase and lowercase.\n",
    "\n",
    "a=\"hello World\"\n",
    "print(a.upper())\n",
    "print(a.lower())"
   ]
  },
  {
   "cell_type": "code",
   "execution_count": 8,
   "id": "3c29a804-f35d-48b3-bf1e-8364ad79397c",
   "metadata": {},
   "outputs": [
    {
     "name": "stdout",
     "output_type": "stream",
     "text": [
      "hello world\n"
     ]
    }
   ],
   "source": [
    "#4. Concatenate two strings.\n",
    "\n",
    "a=\"hello\"\n",
    "b=\"world\"\n",
    "print(a+\" \"+b)"
   ]
  },
  {
   "cell_type": "code",
   "execution_count": 10,
   "id": "27b5ca88-cc8d-4e25-8a9f-6b07b9501242",
   "metadata": {},
   "outputs": [
    {
     "name": "stdout",
     "output_type": "stream",
     "text": [
      "s\n"
     ]
    }
   ],
   "source": [
    "#5.Access individual characters in a string using indexing.\n",
    "\n",
    "new_variable=\"string\"\n",
    "print(new_variable[0]) #accessing first character of the string\n",
    "#If you try to access an index that is out of range, Python will raise an IndexError"
   ]
  },
  {
   "cell_type": "code",
   "execution_count": 13,
   "id": "3f16f88c-aff6-4280-a831-f31e645fbcdf",
   "metadata": {},
   "outputs": [
    {
     "name": "stdout",
     "output_type": "stream",
     "text": [
      "str\n"
     ]
    }
   ],
   "source": [
    "#6.Extract a substring using slicing.\n",
    "\n",
    "print(new_variable[0:3])"
   ]
  },
  {
   "cell_type": "code",
   "execution_count": 14,
   "id": "2334e19e-4456-43c1-b07c-6b03cfe924fb",
   "metadata": {},
   "outputs": [
    {
     "name": "stdout",
     "output_type": "stream",
     "text": [
      "! olleh\n"
     ]
    }
   ],
   "source": [
    "#6. Reverse a string.\n",
    "\n",
    "string_reverse=\"hello !\"\n",
    "print(string_reverse[::-1])"
   ]
  },
  {
   "cell_type": "code",
   "execution_count": 18,
   "id": "fb31dd60-417c-4fb5-bd29-783292ac5a76",
   "metadata": {},
   "outputs": [
    {
     "name": "stdout",
     "output_type": "stream",
     "text": [
      " 'hi' is not in text\n"
     ]
    }
   ],
   "source": [
    "#7. Check if a string contains a specific word.\n",
    "\n",
    "text=\"welcome to python programming class\"\n",
    "word_to_check=\"hi\"\n",
    "\n",
    "if word_to_check in text:\n",
    "    print(f\" '{word_to_check}' is in text\")\n",
    "else:\n",
    "    print(f\" '{word_to_check}' is not in text\")"
   ]
  },
  {
   "cell_type": "code",
   "execution_count": 19,
   "id": "2db0d163-7785-47c0-a3b4-c1eaac25a8fa",
   "metadata": {},
   "outputs": [
    {
     "name": "stdout",
     "output_type": "stream",
     "text": [
      " how hi you ? hi you good?\n"
     ]
    }
   ],
   "source": [
    "#8. Replace a substring with another substring.\n",
    "\n",
    "sentence=\" how are you ? are you good?\"\n",
    "print(sentence.replace(\"are\",\"hi\"))"
   ]
  },
  {
   "cell_type": "code",
   "execution_count": 20,
   "id": "9f5c94c4-b1da-4c26-aa2f-a0c35934382f",
   "metadata": {},
   "outputs": [
    {
     "name": "stdout",
     "output_type": "stream",
     "text": [
      " The character 'e' appears 3 times.\n"
     ]
    }
   ],
   "source": [
    "#9. Count the occurrences of a character in a string.\n",
    "\n",
    "word=\"sentence\"\n",
    "char=\"e\"\n",
    "count=word.count(char)\n",
    "print(f\" The character '{char}' appears {count} times.\")"
   ]
  },
  {
   "cell_type": "code",
   "execution_count": 21,
   "id": "3ce0eabf-0536-4915-a1c6-60885a3c9d56",
   "metadata": {},
   "outputs": [],
   "source": [
    "#Intermediate question "
   ]
  },
  {
   "cell_type": "code",
   "execution_count": 22,
   "id": "952ee1bd-991c-4346-a3dd-cad64af06986",
   "metadata": {},
   "outputs": [
    {
     "name": "stdout",
     "output_type": "stream",
     "text": [
      "False\n"
     ]
    }
   ],
   "source": [
    "#11.Check if a string is a palindrome.\n",
    "\n",
    "def to_check_string(word):\n",
    "    return word[::]==word[::-1]\n",
    "print(to_check_string(\"hi\"))"
   ]
  },
  {
   "cell_type": "code",
   "execution_count": 28,
   "id": "e14647c1-0ad6-428b-a8f2-7a48d37dfc2a",
   "metadata": {},
   "outputs": [
    {
     "data": {
      "text/plain": [
       "'n'"
      ]
     },
     "execution_count": 28,
     "metadata": {},
     "output_type": "execute_result"
    }
   ],
   "source": [
    "#12.Find the first non-repeating character in a string.\n",
    "\n",
    "def nonrepeating_character(name):\n",
    "    for char in name:\n",
    "        if name.count(char)==1:\n",
    "            return char\n",
    "    return None\n",
    "    \n",
    "nonrepeating_character(\"ankita\")"
   ]
  },
  {
   "cell_type": "code",
   "execution_count": 29,
   "id": "a5e3d04a-e939-416b-aaec-e0826d1d234f",
   "metadata": {},
   "outputs": [
    {
     "data": {
      "text/plain": [
       "'helo'"
      ]
     },
     "execution_count": 29,
     "metadata": {},
     "output_type": "execute_result"
    }
   ],
   "source": [
    "#13.Remove duplicate characters from a string.\n",
    "\n",
    "def remove_duplicate(text):\n",
    "    empty_string=\"\"\n",
    "    for char in text:\n",
    "        if char not in empty_string:\n",
    "            empty_string+=char\n",
    "    return empty_string\n",
    "\n",
    "remove_duplicate(\"hello\")"
   ]
  },
  {
   "cell_type": "code",
   "execution_count": 31,
   "id": "0fcf99e7-63c0-4002-aa7c-c360955c4d1e",
   "metadata": {},
   "outputs": [
    {
     "data": {
      "text/plain": [
       "'wrld'"
      ]
     },
     "execution_count": 31,
     "metadata": {},
     "output_type": "execute_result"
    }
   ],
   "source": [
    "#14.Remove vowels from a given string.\n",
    "\n",
    "def remove_vowels(s):\n",
    "    vowels=\"aeiou\"\n",
    "    no_vowels=\"\"\n",
    "    for char in s.lower():\n",
    "        if char not in vowels:\n",
    "            no_vowels+=char\n",
    "    return no_vowels\n",
    "    \n",
    "remove_vowels(\"WOrld\")"
   ]
  },
  {
   "cell_type": "code",
   "execution_count": 33,
   "id": "30de21c5-5e54-44f3-b21e-5f2bd44f84d2",
   "metadata": {},
   "outputs": [
    {
     "data": {
      "text/plain": [
       "'Hi I Am Doing Great'"
      ]
     },
     "execution_count": 33,
     "metadata": {},
     "output_type": "execute_result"
    }
   ],
   "source": [
    "#15. Convert a string to title case (capitalize first letter of each word).\n",
    "\n",
    "def capital_firstletter(word):\n",
    "    return word.title()\n",
    "\n",
    "capital_firstletter(\"hi i am doing great\")"
   ]
  },
  {
   "cell_type": "code",
   "execution_count": 35,
   "id": "d8e7788c-d082-4161-8332-4d10352ba28c",
   "metadata": {},
   "outputs": [
    {
     "data": {
      "text/plain": [
       "'programming'"
      ]
     },
     "execution_count": 35,
     "metadata": {},
     "output_type": "execute_result"
    }
   ],
   "source": [
    "#15. Find the longest word in a given string.\n",
    "\n",
    "def longest_word(sentence):\n",
    "    new_sentence=sentence.split() #[\"i\",\"am\",\"learning\",....]\n",
    "    longest_word=\"\"\n",
    "    for char in new_sentence:\n",
    "        if len(char)>len(longest_word):\n",
    "            longest_word=char\n",
    "    return longest_word\n",
    "            \n",
    "\n",
    "longest_word(\"i am learning python programming\")"
   ]
  },
  {
   "cell_type": "code",
   "execution_count": 39,
   "id": "ce3124ac-e543-43ec-b93d-2cb5bd3f6f73",
   "metadata": {},
   "outputs": [
    {
     "name": "stdout",
     "output_type": "stream",
     "text": [
      "aaabnn\n"
     ]
    }
   ],
   "source": [
    "#16 .Sort the characters of a string in alphabetical order.\n",
    "\n",
    "def sort_string(s):\n",
    "    return \"\".join(sorted(s))  \n",
    "\n",
    "text = \"banana\"\n",
    "print(sort_string(text))"
   ]
  },
  {
   "cell_type": "code",
   "execution_count": null,
   "id": "0ed8afa0-a0ea-47c1-8bd4-8f6c107f663a",
   "metadata": {},
   "outputs": [],
   "source": []
  }
 ],
 "metadata": {
  "kernelspec": {
   "display_name": "Python 3 (ipykernel)",
   "language": "python",
   "name": "python3"
  },
  "language_info": {
   "codemirror_mode": {
    "name": "ipython",
    "version": 3
   },
   "file_extension": ".py",
   "mimetype": "text/x-python",
   "name": "python",
   "nbconvert_exporter": "python",
   "pygments_lexer": "ipython3",
   "version": "3.13.1"
  }
 },
 "nbformat": 4,
 "nbformat_minor": 5
}
