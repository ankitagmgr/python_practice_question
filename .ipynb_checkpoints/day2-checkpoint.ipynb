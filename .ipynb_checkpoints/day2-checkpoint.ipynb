{
 "cells": [
  {
   "cell_type": "code",
   "execution_count": 4,
   "id": "799c4940-43bd-4dc6-9bc5-9744e02d1745",
   "metadata": {},
   "outputs": [
    {
     "name": "stdout",
     "output_type": "stream",
     "text": [
      "[1, 2, 3, 4, 5]\n"
     ]
    }
   ],
   "source": [
    "#1.Create a list and print it\n",
    "\n",
    "def new_list(lst):\n",
    "    return lst\n",
    "    \n",
    "print(new_list([1,2,3,4,5]))"
   ]
  },
  {
   "cell_type": "code",
   "execution_count": 6,
   "id": "436b6016-af20-4068-a980-0d9771415e95",
   "metadata": {},
   "outputs": [
    {
     "name": "stdout",
     "output_type": "stream",
     "text": [
      "7\n"
     ]
    }
   ],
   "source": [
    "#2.Find the length of a list\n",
    "\n",
    "def list_length(lst):\n",
    "    return len(lst)\n",
    "print(list_length([1,2,3,4,5,67,7]))"
   ]
  },
  {
   "cell_type": "code",
   "execution_count": 7,
   "id": "09025cbc-0447-469a-aa70-7d563bedb74a",
   "metadata": {},
   "outputs": [
    {
     "name": "stdout",
     "output_type": "stream",
     "text": [
      "1\n"
     ]
    }
   ],
   "source": [
    "#3. Access individual elements in a list using indexing.\n",
    "\n",
    "def access_index(lst):\n",
    "    return lst[0]\n",
    "print(access_index([1,2,3,4,5]))"
   ]
  },
  {
   "cell_type": "code",
   "execution_count": 8,
   "id": "7886940e-e28e-4393-a866-db0808a68d67",
   "metadata": {},
   "outputs": [
    {
     "name": "stdout",
     "output_type": "stream",
     "text": [
      "[1, 6, 8, 89]\n"
     ]
    }
   ],
   "source": [
    "#4.Slice a list to extract a sublist.\n",
    "\n",
    "def extract_sublist(lst):\n",
    "    return lst[0:4]\n",
    "print(extract_sublist([1,6,8,89,44,5,66]))"
   ]
  },
  {
   "cell_type": "code",
   "execution_count": 12,
   "id": "b936d343-22ca-4a89-987c-be7a7400f12a",
   "metadata": {},
   "outputs": [
    {
     "name": "stdout",
     "output_type": "stream",
     "text": [
      "[1, 2, 34, 5]\n"
     ]
    }
   ],
   "source": [
    "#5.Append an element to a list.\n",
    "\n",
    "def append_element(lst):\n",
    "    lst.append(5)\n",
    "    return lst\n",
    "\n",
    "print(append_element([1,2,34]))"
   ]
  },
  {
   "cell_type": "code",
   "execution_count": 13,
   "id": "510bd862-68ba-4175-b49c-538fd93e8b85",
   "metadata": {},
   "outputs": [
    {
     "name": "stdout",
     "output_type": "stream",
     "text": [
      "['grapes', 'apple', 'mango', 'orange']\n"
     ]
    }
   ],
   "source": [
    "#6.Insert an element at a specific index in a list.\n",
    "\n",
    "def insert_element(list1):\n",
    "    list1.insert(0,\"grapes\")\n",
    "    return list1\n",
    "\n",
    "print(insert_element([\"apple\",\"mango\",\"orange\"]))"
   ]
  },
  {
   "cell_type": "code",
   "execution_count": 14,
   "id": "6aab1601-067a-4be4-b5a7-68131a3b3d3d",
   "metadata": {},
   "outputs": [
    {
     "name": "stdout",
     "output_type": "stream",
     "text": [
      "['ball', 'cricket']\n"
     ]
    }
   ],
   "source": [
    "#7. Remove an element from a list by value.\n",
    "\n",
    "def remove_element(lst):\n",
    "    lst.remove(\"bat\")\n",
    "    return lst\n",
    "\n",
    "print(remove_element([\"bat\",\"ball\",\"cricket\"]))"
   ]
  },
  {
   "cell_type": "code",
   "execution_count": 17,
   "id": "c7c58590-14da-496c-8de3-56d501fb9558",
   "metadata": {},
   "outputs": [
    {
     "name": "stdout",
     "output_type": "stream",
     "text": [
      "['bat', 'ball']\n"
     ]
    }
   ],
   "source": [
    "#8. Remove an element from a list by index.\n",
    "\n",
    "def remove_element_index(lst):\n",
    "    lst.pop(2)\n",
    "    return lst\n",
    "\n",
    "print(remove_element_index([\"bat\",\"ball\",\"cricket\"]))"
   ]
  },
  {
   "cell_type": "code",
   "execution_count": 22,
   "id": "3b51c27c-53e8-436d-9b49-785029e52436",
   "metadata": {},
   "outputs": [
    {
     "name": "stdout",
     "output_type": "stream",
     "text": [
      "1\n"
     ]
    }
   ],
   "source": [
    "#9.Find the index of an element in a list.\n",
    "\n",
    "def find_element_index(lst,element):\n",
    "    if element in lst:\n",
    "        return lst.index(element)\n",
    "    else:\n",
    "        return -1\n",
    "\n",
    "print(find_element_index([\"bat\",\"ball\",\"cricket\"],\"ball\"))"
   ]
  },
  {
   "cell_type": "code",
   "execution_count": 23,
   "id": "4046ad4a-b0a4-44f7-bcc7-5241686aab35",
   "metadata": {},
   "outputs": [
    {
     "name": "stdout",
     "output_type": "stream",
     "text": [
      "3\n"
     ]
    }
   ],
   "source": [
    "#10. Count occurrences of an element in a list.\n",
    "\n",
    "def count_occurrence(list2):\n",
    "    return list2.count(5)\n",
    "\n",
    "print(count_occurrence([1,2,4,5,77,89,5,6,5]))\n"
   ]
  },
  {
   "cell_type": "code",
   "execution_count": 32,
   "id": "f3af2910-b8f4-4316-84b7-156122df6c3c",
   "metadata": {},
   "outputs": [
    {
     "name": "stdout",
     "output_type": "stream",
     "text": [
      "[5, 4, 3, 2, 1]\n"
     ]
    }
   ],
   "source": [
    "#11. Reverse a list.\n",
    "\n",
    "def reverse_list(lst):\n",
    "    return lst[::-1]\n",
    "print(reverse_list([1,2,3,4,5]))"
   ]
  },
  {
   "cell_type": "code",
   "execution_count": 35,
   "id": "d0df0d77-b956-4409-b588-be6bc883b8fe",
   "metadata": {},
   "outputs": [
    {
     "name": "stdout",
     "output_type": "stream",
     "text": [
      "[2, 3, 3, 7, 21, 46]\n",
      "[46, 21, 7, 3, 3, 2]\n"
     ]
    }
   ],
   "source": [
    "#12. Sort a list in ascending and descending order.\n",
    "def ascend_descend(lst,reverse=False):\n",
    "    lst.sort(reverse=reverse)\n",
    "    return lst\n",
    "\n",
    "print(ascend_descend([2,3,46,7,21,3]))\n",
    "print(ascend_descend([2,3,46,7,21,3],reverse=True))"
   ]
  },
  {
   "cell_type": "code",
   "execution_count": 36,
   "id": "b99f96d4-20ee-45d6-87e4-2ec64cb0ba1e",
   "metadata": {},
   "outputs": [
    {
     "name": "stdout",
     "output_type": "stream",
     "text": [
      "(889, 7)\n"
     ]
    }
   ],
   "source": [
    "#13.Find the maximum and minimum elements in a list.\n",
    "\n",
    "def max_min(lst):\n",
    "    return max(lst),min(lst)\n",
    "print(max_min([22,456,7,889,345,563]))"
   ]
  },
  {
   "cell_type": "code",
   "execution_count": 37,
   "id": "62a34ff3-44c6-41bd-ae80-69b209bb30aa",
   "metadata": {},
   "outputs": [
    {
     "name": "stdout",
     "output_type": "stream",
     "text": [
      "False\n"
     ]
    }
   ],
   "source": [
    "#14.Check if an element exists in a list.\n",
    "\n",
    "def check_element(fruits,element):\n",
    "    if element in fruits:\n",
    "        return True\n",
    "    else:\n",
    "        return False\n",
    "\n",
    "print(check_element([\"apple\",\"orange\",\"grapes\",\"banana\"],\"mango\"))"
   ]
  },
  {
   "cell_type": "code",
   "execution_count": null,
   "id": "3a59c853-ae13-435d-9427-edc3df464391",
   "metadata": {},
   "outputs": [],
   "source": [
    "#15.Concatenate two lists.\n",
    "\n",
    "def concat_lists(list1,list2):\n",
    "    return list1+list2 # '+' operator "
   ]
  },
  {
   "cell_type": "code",
   "execution_count": null,
   "id": "903eba8c-2622-4818-8b2e-802133a70940",
   "metadata": {},
   "outputs": [],
   "source": [
    "return a new list but 'extend' modifies the original list\n",
    "print(concat_lists([1,2,9,3],[8,5,92]))\n",
    "\n",
    "#16. Remove duplicate elements from a list.\n",
    "\n",
    "def remove_duplicate(lst):\n",
    "    new_list=[]\n",
    "    for i in lst:\n",
    "        if i not in new_list:\n",
    "            new_list.append(i)\n",
    "    print(new_list)\n",
    "print(remove_duplicate([2,3,4,4,5,7,8,8,89,1,2,3]))"
   ]
  },
  {
   "cell_type": "code",
   "execution_count": 45,
   "id": "f84dd126-e60b-4f84-9576-2d52f9ec2b7c",
   "metadata": {},
   "outputs": [
    {
     "data": {
      "text/plain": [
       "34"
      ]
     },
     "execution_count": 45,
     "metadata": {},
     "output_type": "execute_result"
    }
   ],
   "source": [
    "#17. Find the second largest number in a list.\n",
    "\n",
    "def second_largest(lst):\n",
    "    lst.sort()\n",
    "    return lst[-2]\n",
    "\n",
    "second_largest([22,34,5,12,67])"
   ]
  },
  {
   "cell_type": "code",
   "execution_count": 49,
   "id": "eca887f3-7aa6-4f95-88ec-53b98b1eab64",
   "metadata": {},
   "outputs": [
    {
     "data": {
      "text/plain": [
       "[9, 2]"
      ]
     },
     "execution_count": 49,
     "metadata": {},
     "output_type": "execute_result"
    }
   ],
   "source": [
    "#18.Find the intersection of two lists.\n",
    "\n",
    "def intersection_list(list1,list2):\n",
    "    return list(set(list1)&set(list2))\n",
    "intersection_list([1,9,2,3],[8,2,9,5,92])"
   ]
  },
  {
   "cell_type": "code",
   "execution_count": 51,
   "id": "b43bf6d9-4122-4cb3-af82-6f1a919e0756",
   "metadata": {},
   "outputs": [
    {
     "data": {
      "text/plain": [
       "[1, 2, 3, 5, 8, 9, 92]"
      ]
     },
     "execution_count": 51,
     "metadata": {},
     "output_type": "execute_result"
    }
   ],
   "source": [
    "#19.Find the union of two lists.\n",
    "\n",
    "def union_list(list1,list2):\n",
    "    return list(set(list1)|set(list2))\n",
    "\n",
    "union_list([1,9,2,3],[8,2,9,5,92])"
   ]
  },
  {
   "cell_type": "code",
   "execution_count": 53,
   "id": "33a24d97-dc74-41a0-af81-a3e58a5aceeb",
   "metadata": {},
   "outputs": [
    {
     "name": "stdout",
     "output_type": "stream",
     "text": [
      "[1, 3, 5, 7, 9]\n"
     ]
    }
   ],
   "source": [
    "#20.Remove all even numbers from a list.\n",
    "\n",
    "def remove_even(lst):\n",
    "    new_list=[]\n",
    "    for i in lst:\n",
    "        if i%2!=0:\n",
    "            new_list.append(i)\n",
    "    return new_list\n",
    "\n",
    "print(remove_even([1,2,3,4,5,6,7,8,9,10]))"
   ]
  },
  {
   "cell_type": "code",
   "execution_count": 59,
   "id": "c8de8eeb-ff2c-4d62-9d0e-4409bcb0e32d",
   "metadata": {},
   "outputs": [
    {
     "name": "stdout",
     "output_type": "stream",
     "text": [
      "[1, 2, 3, 4, 5]\n"
     ]
    }
   ],
   "source": [
    "#21.Flatten a nested list. [1, [2, [3, 4]], 5]==>[1,2,3,4,5]\n",
    "\n",
    "def flatten_list(lst):\n",
    "    new_lst=[]\n",
    "    for i in lst:\n",
    "        if isinstance(i,list): #[2,[3,4]]\n",
    "           new_lst.extend(flatten_list(i)) \n",
    "           \n",
    "        else:\n",
    "            new_lst.append(i)#[1]\n",
    "    return new_lst\n",
    "    \n",
    "print(flatten_list([1, [2, [3, 4]], 5]))"
   ]
  },
  {
   "cell_type": "code",
   "execution_count": null,
   "id": "7cbc5e45-b075-4017-806e-52ea3f0b3d2d",
   "metadata": {},
   "outputs": [],
   "source": []
  }
 ],
 "metadata": {
  "kernelspec": {
   "display_name": "Python 3 (ipykernel)",
   "language": "python",
   "name": "python3"
  },
  "language_info": {
   "codemirror_mode": {
    "name": "ipython",
    "version": 3
   },
   "file_extension": ".py",
   "mimetype": "text/x-python",
   "name": "python",
   "nbconvert_exporter": "python",
   "pygments_lexer": "ipython3",
   "version": "3.13.1"
  }
 },
 "nbformat": 4,
 "nbformat_minor": 5
}
